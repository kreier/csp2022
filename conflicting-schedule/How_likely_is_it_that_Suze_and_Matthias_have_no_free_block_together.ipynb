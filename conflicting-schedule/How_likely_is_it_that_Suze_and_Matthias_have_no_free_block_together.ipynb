{
  "nbformat": 4,
  "nbformat_minor": 0,
  "metadata": {
    "colab": {
      "name": "How likely is it that Suze and Matthias have no free block together.ipynb",
      "provenance": []
    },
    "kernelspec": {
      "name": "python3",
      "display_name": "Python 3"
    },
    "language_info": {
      "name": "python"
    }
  },
  "cells": [
    {
      "cell_type": "markdown",
      "source": [
        "# No free block together - how likely?\n",
        "\n",
        "A mayor problem for the whole CSE department in 2022-2023 is that there is not a single block where not at least one member is teaching. This makes collaborative planning difficult. That bages the question: How likely is that?\n",
        "\n",
        "Since we have 8 blocks, where we either teach or not, this schedule can be represented by 8 symbols. For the collaborative planning it is only relevant if we teach or not, so a binary representation is possible. Therefore the teaching schedule for this purpuse can be represented by 8 bits or 1 Byte for each teacher.\n",
        "\n",
        "## How many different schedules are possible?\n",
        "\n",
        "Having 8 bits can store 256 different values. But obviously not all represent a valid teaching schedule. 00 is for vacation and FF would be nonstop teaching. If teaching is 1 and not teaching is zero, we need to find the bytes with only 5 ones and 3 zeros. Since the data set is so small, we can use brute force:"
      ],
      "metadata": {
        "id": "kBNesvhNN8v-"
      }
    },
    {
      "cell_type": "code",
      "execution_count": null,
      "metadata": {
        "colab": {
          "base_uri": "https://localhost:8080/"
        },
        "id": "-rtKXg0IN3XA",
        "outputId": "6de29549-d322-4304-fc99-d5a3f29274a4"
      },
      "outputs": [
        {
          "output_type": "stream",
          "name": "stdout",
          "text": [
            "We have now 56 schedules with 5 blocks in our list.\n",
            "\n",
            "Unfortunately this includes schedules with 4 blocks on 1 day!\n",
            "You would teach all blocks on one day: 00011111\n",
            "You would teach all blocks on one day: 00101111\n",
            "You would teach all blocks on one day: 01001111\n",
            "You would teach all blocks on one day: 10001111\n",
            "You would teach all blocks on one day: 11110001\n",
            "You would teach all blocks on one day: 11110010\n",
            "You would teach all blocks on one day: 11110100\n",
            "You would teach all blocks on one day: 11111000\n",
            "\n",
            "We have now 48 schedules with 5 blocks in our list.\n",
            "\n",
            "Let's pick this random one and compare to the set of 48: 11100011\n",
            "\n",
            "11110111 7  11111011 7  11111111 8  11111111 8  \n",
            "11110111 7  11111011 7  11111111 8  11111111 8  \n",
            "11100111 6  11101011 6  11101111 7  11101111 7  \n",
            "11110011 6  11110111 7  11110111 7  11111011 7  \n",
            "11111011 7  11111111 8  11110111 7  11111011 7  \n",
            "11111111 8  11111111 8  11100111 6  11101011 6  \n",
            "11101111 7  11101111 7  11110011 6  11110111 7  \n",
            "11110111 7  11111011 7  11111011 7  11111111 8  \n",
            "11100111 6  11101011 6  11101111 7  11101111 7  \n",
            "11110011 6  11110111 7  11110111 7  11111011 7  \n",
            "11111011 7  11111111 8  11100011 5  11100111 6  \n",
            "11100111 6  11101011 6  11101011 6  11101111 7  \n",
            "\n",
            "Statistically of the 48 options we have:\n",
            "Zero planning blocks:  9 or 18 percent.\n",
            "One planning blocks:  25 or 52 percent.\n",
            "Two planning blocks:  13 or 27 percent.\n",
            "Three planning blocks: 1 or  2 percent.\n"
          ]
        }
      ],
      "source": [
        "def string_bits(a_byte):\n",
        "  return \"{:08b}\".format(a_byte)\n",
        "\n",
        "def ones_in_byte(testbyte):\n",
        "  bits = string_bits(testbyte)\n",
        "  ones = 0\n",
        "  for i in range(len(bits)):\n",
        "    if bits[i] == '1':\n",
        "      ones += 1\n",
        "  return ones\n",
        "\n",
        "# testschedule for Matthias m\n",
        "m = bytearray()\n",
        "for i in range(256):\n",
        "  if ones_in_byte(i) == 5:\n",
        "    m.append(i)\n",
        "\n",
        "print(f\"We have now {len(m)} schedules with 5 blocks in our list.\\n\")\n",
        "\n",
        "print(\"Unfortunately this includes schedules with 4 blocks on 1 day!\")\n",
        "n = bytearray()\n",
        "for i in range(len(m)):\n",
        "  if (m[i] & 0x0f == 0x0f) or (m[i] & 0xf0 == 0xf0):\n",
        "    print(\"You would teach all blocks on one day: {:08b}\".format(m[i]))\n",
        "  else:\n",
        "    n.append(m[i])\n",
        "\n",
        "print(f\"\\nWe have now {len(n)} schedules with 5 blocks in our list.\\n\")\n",
        "m = n\n",
        "\n",
        "s = m[random.randint(0, len(m)-1)]\n",
        "print(f\"Let's pick this random one and compare to the set of {len(m)}: \" + string_bits(s) + \"\\n\")\n",
        "\n",
        "planning0 = 0\n",
        "planning1 = 0\n",
        "planning2 = 0\n",
        "planning3 = 0\n",
        "\n",
        "for i in range(0, len(m), 4):\n",
        "  ausgabe = \"\"\n",
        "  for j in range(4):\n",
        "    overlap = m[i+j] | s\n",
        "    x = ones_in_byte(overlap)\n",
        "    if x == 8:\n",
        "      planning0 += 1\n",
        "    elif x == 7:\n",
        "      planning1 += 1\n",
        "    elif x == 6:\n",
        "      planning2 += 1\n",
        "    else:\n",
        "      planning3 += 1\n",
        "    ausgabe += string_bits(overlap or 0xff) + \" \"\n",
        "    ausgabe += str(x) + \"  \"\n",
        "  print(ausgabe)\n",
        "\n",
        "print(\"\\nStatistically of the 48 options we have:\")\n",
        "print(f\"Zero planning blocks:  {planning0} or {int(planning0/0.48)} percent.\")\n",
        "print(f\"One planning blocks:  {planning1} or {int(planning1/0.48)} percent.\")\n",
        "print(f\"Two planning blocks:  {planning2} or {int(planning2/0.48)} percent.\")\n",
        "print(f\"Three planning blocks: {planning3} or  {int(planning3/0.48)} percent.\")\n",
        "\n"
      ]
    }
  ]
}